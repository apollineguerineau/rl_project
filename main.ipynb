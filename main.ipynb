{
 "cells": [
  {
   "cell_type": "markdown",
   "metadata": {},
   "source": [
    "# Trading agent demo"
   ]
  },
  {
   "cell_type": "markdown",
   "metadata": {},
   "source": [
    "## Imports"
   ]
  },
  {
   "cell_type": "code",
   "execution_count": 1,
   "metadata": {},
   "outputs": [],
   "source": [
    "import os\n",
    "import json\n",
    "import torch\n",
    "import numpy as np\n",
    "\n",
    "from modules.data_loader import DataLoader\n",
    "from modules.single_asset_env import SingleAssetEnv\n",
    "from modules.q_network import Q_network\n",
    "from modules.memory import Memory\n",
    "from modules.trading_agent import TradingAgent\n",
    "from modules.functions import train_agent, test_agent"
   ]
  },
  {
   "cell_type": "markdown",
   "metadata": {},
   "source": [
    "## Parameters and variables"
   ]
  },
  {
   "cell_type": "code",
   "execution_count": 2,
   "metadata": {},
   "outputs": [],
   "source": [
    "num_actions = int(os.environ[\"NUM_ACTIONS\"])\n",
    "states_dim = int(os.environ[\"STATES_DIM\"])\n",
    "\n",
    "num_epochs = int(os.environ[\"NUM_EPOCHS\"])\n",
    "batch_size = int(os.environ[\"BATCH_SIZE\"])\n",
    "memory_size = int(os.environ[\"MEMORY_SIZE\"])\n",
    "\n",
    "learning_rate = float(os.environ[\"LEARNING_RATE\"])\n",
    "learning_freq = int(os.environ[\"LEARNING_FREQ\"])\n",
    "\n",
    "tau = float(os.environ[\"TAU\"])\n",
    "gamma = float(os.environ[\"GAMMA\"])\n",
    "\n",
    "device = os.environ[\"DEVICE\"]\n",
    "seed = int(os.environ[\"SEED\"])"
   ]
  },
  {
   "cell_type": "markdown",
   "metadata": {},
   "source": [
    "## Loading data"
   ]
  },
  {
   "cell_type": "code",
   "execution_count": 3,
   "metadata": {},
   "outputs": [
    {
     "name": "stderr",
     "output_type": "stream",
     "text": [
      "[*********************100%%**********************]  1 of 1 completed\n",
      "[*********************100%%**********************]  1 of 1 completed\n",
      "[*********************100%%**********************]  1 of 1 completed\n"
     ]
    }
   ],
   "source": [
    "dataloader = DataLoader(os.environ[\"START_DATE\"], \n",
    "                        os.environ[\"END_DATE\"],\n",
    "                        os.environ[\"FREQ\"],\n",
    "                        os.environ[\"TRAIN_TEST_SPLIT_DATE\"])\n",
    "\n",
    "assets = json.loads(os.environ[\"ASSETS\"])\n",
    "\n",
    "trains = []\n",
    "tests = []\n",
    "\n",
    "for asset in assets:\n",
    "    train, test = dataloader.load(asset)\n",
    "\n",
    "    trains.append(train)\n",
    "    tests.append(test)"
   ]
  },
  {
   "cell_type": "markdown",
   "metadata": {},
   "source": [
    "## Initialisations"
   ]
  },
  {
   "cell_type": "code",
   "execution_count": 4,
   "metadata": {},
   "outputs": [],
   "source": [
    "train_envs = [SingleAssetEnv(train) for train in trains]\n",
    "\n",
    "agent = TradingAgent(states_dim, num_actions, assets, \n",
    "                     batch_size=batch_size,\n",
    "                     memory_size=memory_size,\n",
    "                     learning_rate=learning_rate,\n",
    "                     tau=tau,\n",
    "                     gamma=gamma,\n",
    "                     learning_freq=learning_freq,\n",
    "                     device=device,\n",
    "                     seed=seed)"
   ]
  },
  {
   "cell_type": "markdown",
   "metadata": {},
   "source": [
    "## Training the agent"
   ]
  },
  {
   "cell_type": "code",
   "execution_count": 5,
   "metadata": {},
   "outputs": [
    {
     "name": "stdout",
     "output_type": "stream",
     "text": [
      "Epoch  0 | Scores = {'BTC-USD': 523498424.70996094, 'ETH-USD': 272933807.8915863, 'BNB-USD': 35249923.295944214}\n",
      "Epoch  1 | Scores = {'BTC-USD': 3219976.1650390625, 'ETH-USD': 509770981.7358246, 'BNB-USD': 52754580.03080559}\n",
      "Epoch  2 | Scores = {'BTC-USD': 534286.9848632812, 'ETH-USD': 509770981.7358246, 'BNB-USD': 52754580.03080559}\n",
      "Epoch  3 | Scores = {'BTC-USD': 71778158.60595703, 'ETH-USD': 507987196.3312683, 'BNB-USD': 52754580.03080559}\n",
      "Epoch  4 | Scores = {'BTC-USD': 7054410.402832031, 'ETH-USD': 509770981.7358246, 'BNB-USD': 52754580.03080559}\n",
      "Epoch  5 | Scores = {'BTC-USD': -14350.4609375, 'ETH-USD': 509770981.7358246, 'BNB-USD': 188905886.1978588}\n",
      "Epoch  6 | Scores = {'BTC-USD': -25631316.549804688, 'ETH-USD': 509968981.7358246, 'BNB-USD': 52616927.93262291}\n",
      "Epoch  7 | Scores = {'BTC-USD': 151957900.28271484, 'ETH-USD': 509770981.7358246, 'BNB-USD': 52754580.03080559}\n",
      "Epoch  8 | Scores = {'BTC-USD': 564217.6904296875, 'ETH-USD': 346672937.75157166, 'BNB-USD': 52754580.03080559}\n",
      "Epoch  9 | Scores = {'BTC-USD': 38105245.596191406, 'ETH-USD': 396195687.95500183, 'BNB-USD': 52754580.03080559}\n",
      "Epoch 10 | Scores = {'BTC-USD': 41234487.14501953, 'ETH-USD': 509770981.7358246, 'BNB-USD': 52754580.03080559}\n",
      "Epoch 11 | Scores = {'BTC-USD': 40048578.99511719, 'ETH-USD': 509770981.7358246, 'BNB-USD': 52596575.94057083}\n",
      "Epoch 12 | Scores = {'BTC-USD': 2482880.8984375, 'ETH-USD': 509770981.7358246, 'BNB-USD': 52754580.03080559}\n",
      "Epoch 13 | Scores = {'BTC-USD': -6068767.305175781, 'ETH-USD': 509770981.7358246, 'BNB-USD': 52754580.03080559}\n",
      "Epoch 14 | Scores = {'BTC-USD': -21970880.279785156, 'ETH-USD': 509770981.7358246, 'BNB-USD': 52754580.03080559}\n",
      "Epoch 15 | Scores = {'BTC-USD': 244702645.5834961, 'ETH-USD': 383653280.9665985, 'BNB-USD': 52754580.03080559}\n",
      "Epoch 16 | Scores = {'BTC-USD': 141622046.73339844, 'ETH-USD': 509770981.7358246, 'BNB-USD': 52595417.17403507}\n",
      "Epoch 17 | Scores = {'BTC-USD': -1035003.4560546875, 'ETH-USD': 509770981.7358246, 'BNB-USD': 52754580.03080559}\n",
      "Epoch 18 | Scores = {'BTC-USD': 282851694.01416016, 'ETH-USD': 509770981.7358246, 'BNB-USD': 52754580.03080559}\n",
      "Epoch 19 | Scores = {'BTC-USD': 23271458.90185547, 'ETH-USD': 507705418.12609863, 'BNB-USD': 52754580.03080559}\n",
      "Epoch 20 | Scores = {'BTC-USD': 49976506.21826172, 'ETH-USD': 353531759.28689575, 'BNB-USD': 52754580.03080559}\n",
      "Epoch 21 | Scores = {'BTC-USD': 127743954.00097656, 'ETH-USD': 509869981.7358246, 'BNB-USD': 52754580.03080559}\n",
      "Epoch 22 | Scores = {'BTC-USD': 10793487.489257812, 'ETH-USD': 509770981.7358246, 'BNB-USD': 52754580.03080559}\n",
      "Epoch 23 | Scores = {'BTC-USD': 298890040.3100586, 'ETH-USD': 507799533.5246048, 'BNB-USD': 52754580.03080559}\n",
      "Epoch 24 | Scores = {'BTC-USD': 322979668.7319336, 'ETH-USD': 507874868.76862335, 'BNB-USD': 52754580.03080559}\n",
      "Epoch 25 | Scores = {'BTC-USD': 260876315.15722656, 'ETH-USD': 507874868.76862335, 'BNB-USD': 52754580.03080559}\n",
      "Epoch 26 | Scores = {'BTC-USD': -15580188.077636719, 'ETH-USD': 522823868.76862335, 'BNB-USD': 114378636.67950249}\n",
      "Epoch 27 | Scores = {'BTC-USD': 225145558.2553711, 'ETH-USD': 183893297.6276245, 'BNB-USD': 52754580.03080559}\n",
      "Epoch 28 | Scores = {'BTC-USD': 299276545.93847656, 'ETH-USD': 507874868.76862335, 'BNB-USD': 52754580.03080559}\n",
      "Epoch 29 | Scores = {'BTC-USD': -12239290.161621094, 'ETH-USD': 507874868.76862335, 'BNB-USD': 52754580.03080559}\n",
      "Epoch 30 | Scores = {'BTC-USD': 7988440.019042969, 'ETH-USD': 507555667.344841, 'BNB-USD': 52754580.03080559}\n",
      "Epoch 31 | Scores = {'BTC-USD': 408445684.0888672, 'ETH-USD': 491874168.08301544, 'BNB-USD': 52754580.03080559}\n",
      "Epoch 32 | Scores = {'BTC-USD': 25704879.396484375, 'ETH-USD': 529258868.76862335, 'BNB-USD': 52754580.03080559}\n",
      "Epoch 33 | Scores = {'BTC-USD': 2249423.6938476562, 'ETH-USD': 10561217.756225586, 'BNB-USD': 52754580.03080559}\n",
      "Epoch 34 | Scores = {'BTC-USD': -27725086.216796875, 'ETH-USD': 515121038.5728226, 'BNB-USD': 52754580.03080559}\n",
      "Epoch 35 | Scores = {'BTC-USD': 257207507.00830078, 'ETH-USD': 507874868.76862335, 'BNB-USD': 52754580.03080559}\n",
      "Epoch 36 | Scores = {'BTC-USD': 28494757.747558594, 'ETH-USD': 507775868.76862335, 'BNB-USD': 52595499.1402874}\n",
      "Epoch 37 | Scores = {'BTC-USD': 293618833.26220703, 'ETH-USD': 507874868.76862335, 'BNB-USD': 52754580.03080559}\n",
      "Epoch 38 | Scores = {'BTC-USD': 295210014.87646484, 'ETH-USD': 507874868.76862335, 'BNB-USD': 52754580.03080559}\n",
      "Epoch 39 | Scores = {'BTC-USD': 1873213.5219726562, 'ETH-USD': 181161622.89258575, 'BNB-USD': 52853580.03080559}\n",
      "Training done!\n"
     ]
    }
   ],
   "source": [
    "train_agent(assets, agent, train_envs, num_epochs)"
   ]
  },
  {
   "cell_type": "markdown",
   "metadata": {},
   "source": [
    "## Testing the agent"
   ]
  },
  {
   "cell_type": "code",
   "execution_count": 8,
   "metadata": {},
   "outputs": [
    {
     "name": "stdout",
     "output_type": "stream",
     "text": [
      "Initial capital : 100000$ for each asset\n",
      "\n",
      "Balance : BTC-USD: 223900.07\n",
      "Balance : ETH-USD: 190956.93\n",
      "Balance : BNB-USD: 209455.51\n",
      "----------------------------\n",
      "Total profit made: 324312.52\n"
     ]
    }
   ],
   "source": [
    "test_envs = [SingleAssetEnv(test) for test in tests]\n",
    "\n",
    "print('Initial capital : 100000$ for each asset\\n')\n",
    "\n",
    "final_running_balances, profits = test_agent(assets, agent, test_envs)"
   ]
  },
  {
   "cell_type": "code",
   "execution_count": 9,
   "metadata": {},
   "outputs": [
    {
     "name": "stdout",
     "output_type": "stream",
     "text": [
      "Balance : BTC-USD: 344457.89\n",
      "Balance : ETH-USD: 632495.76\n",
      "Balance : BNB-USD: 212879.95\n",
      "----------------------------\n",
      "Total profit made: 889833.6\n"
     ]
    }
   ],
   "source": [
    "# on training data\n",
    "envs = [SingleAssetEnv(train) for train in trains]\n",
    "\n",
    "final_running_balances2 = test_agent(assets, agent, envs)"
   ]
  }
 ],
 "metadata": {
  "kernelspec": {
   "display_name": "Python 3.10.12 ('myenv')",
   "language": "python",
   "name": "python3"
  },
  "language_info": {
   "codemirror_mode": {
    "name": "ipython",
    "version": 3
   },
   "file_extension": ".py",
   "mimetype": "text/x-python",
   "name": "python",
   "nbconvert_exporter": "python",
   "pygments_lexer": "ipython3",
   "version": "3.10.12"
  },
  "vscode": {
   "interpreter": {
    "hash": "8c0acf22ca7497d002e5e6e252fe169a1f9bf4afdf57db37b4725403d5188d16"
   }
  }
 },
 "nbformat": 4,
 "nbformat_minor": 2
}
