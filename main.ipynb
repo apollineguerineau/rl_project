{
 "cells": [
  {
   "cell_type": "markdown",
   "metadata": {},
   "source": [
    "# Trading agent demo"
   ]
  },
  {
   "cell_type": "markdown",
   "metadata": {},
   "source": [
    "## Imports"
   ]
  },
  {
   "cell_type": "code",
   "execution_count": 1,
   "metadata": {},
   "outputs": [],
   "source": [
    "import os\n",
    "import json\n",
    "import torch\n",
    "import numpy as np\n",
    "\n",
    "from modules.data_loader import DataLoader\n",
    "from modules.single_asset_env import SingleAssetEnv\n",
    "from modules.q_network import Q_network\n",
    "from modules.memory import Memory\n",
    "from modules.trading_agent import TradingAgent\n",
    "from modules.functions import train_agent, test_agent"
   ]
  },
  {
   "cell_type": "markdown",
   "metadata": {},
   "source": [
    "## Parameters and variables"
   ]
  },
  {
   "cell_type": "code",
   "execution_count": 2,
   "metadata": {},
   "outputs": [],
   "source": [
    "num_actions = int(os.environ[\"NUM_ACTIONS\"])\n",
    "states_dim = int(os.environ[\"STATES_DIM\"])\n",
    "\n",
    "num_epochs = int(os.environ[\"NUM_EPOCHS\"])\n",
    "batch_size = int(os.environ[\"BATCH_SIZE\"])\n",
    "memory_size = int(os.environ[\"MEMORY_SIZE\"])\n",
    "\n",
    "learning_rate = float(os.environ[\"LEARNING_RATE\"])\n",
    "learning_freq = int(os.environ[\"LEARNING_FREQ\"])\n",
    "\n",
    "tau = float(os.environ[\"TAU\"])\n",
    "gamma = float(os.environ[\"GAMMA\"])\n",
    "\n",
    "device = os.environ[\"DEVICE\"]\n",
    "seed = int(os.environ[\"SEED\"])"
   ]
  },
  {
   "cell_type": "markdown",
   "metadata": {},
   "source": [
    "## Loading data"
   ]
  },
  {
   "cell_type": "code",
   "execution_count": 3,
   "metadata": {},
   "outputs": [
    {
     "name": "stderr",
     "output_type": "stream",
     "text": [
      "[*********************100%%**********************]  1 of 1 completed\n",
      "[*********************100%%**********************]  1 of 1 completed\n",
      "[*********************100%%**********************]  1 of 1 completed\n"
     ]
    }
   ],
   "source": [
    "dataloader = DataLoader(os.environ[\"START_DATE\"], \n",
    "                        os.environ[\"END_DATE\"],\n",
    "                        os.environ[\"FREQ\"],\n",
    "                        os.environ[\"TRAIN_TEST_SPLIT_DATE\"])\n",
    "\n",
    "assets = json.loads(os.environ[\"ASSETS\"])\n",
    "\n",
    "trains = []\n",
    "tests = []\n",
    "\n",
    "for asset in assets:\n",
    "    train, test = dataloader.load(asset)\n",
    "\n",
    "    trains.append(train)\n",
    "    tests.append(test)"
   ]
  },
  {
   "cell_type": "markdown",
   "metadata": {},
   "source": [
    "## Initialisations"
   ]
  },
  {
   "cell_type": "code",
   "execution_count": 4,
   "metadata": {},
   "outputs": [],
   "source": [
    "train_envs = [SingleAssetEnv(train) for train in trains]\n",
    "\n",
    "agent = TradingAgent(states_dim, num_actions, assets, \n",
    "                     batch_size=batch_size,\n",
    "                     memory_size=memory_size,\n",
    "                     learning_rate=learning_rate,\n",
    "                     tau=tau,\n",
    "                     gamma=gamma,\n",
    "                     learning_freq=learning_freq,\n",
    "                     device=device,\n",
    "                     seed=seed)"
   ]
  },
  {
   "cell_type": "markdown",
   "metadata": {},
   "source": [
    "## Training the agent"
   ]
  },
  {
   "cell_type": "code",
   "execution_count": 5,
   "metadata": {},
   "outputs": [
    {
     "name": "stdout",
     "output_type": "stream",
     "text": [
      "Epoch  0 | Scores = {'BTC-USD': -9112006.48828125, 'ETH-USD': 499145168.0540314, 'BNB-USD': 15569141.860240936}\n",
      "Epoch  1 | Scores = {'BTC-USD': 1872995.271484375, 'ETH-USD': 509770981.7358246, 'BNB-USD': 52754580.03080559}\n",
      "Epoch  2 | Scores = {'BTC-USD': 17864036.131347656, 'ETH-USD': 509770981.7358246, 'BNB-USD': 52754580.03080559}\n",
      "Epoch  3 | Scores = {'BTC-USD': -321500.0, 'ETH-USD': 509770981.7358246, 'BNB-USD': 52754580.03080559}\n",
      "Epoch  4 | Scores = {'BTC-USD': 47335074.458984375, 'ETH-USD': 258236078.15629578, 'BNB-USD': 53062142.75041008}\n",
      "Epoch  5 | Scores = {'BTC-USD': -121700.0, 'ETH-USD': 509770981.7358246, 'BNB-USD': 52754580.03080559}\n",
      "Epoch  6 | Scores = {'BTC-USD': -421400.0, 'ETH-USD': 509770981.7358246, 'BNB-USD': 52754580.03080559}\n",
      "Epoch  7 | Scores = {'BTC-USD': 12179509.396972656, 'ETH-USD': 353624095.19750977, 'BNB-USD': 52754580.03080559}\n",
      "Epoch  8 | Scores = {'BTC-USD': 54107.8984375, 'ETH-USD': 509770981.7358246, 'BNB-USD': 52754580.03080559}\n",
      "Epoch  9 | Scores = {'BTC-USD': 17452991.427734375, 'ETH-USD': 509770981.7358246, 'BNB-USD': 52754580.03080559}\n",
      "Epoch 10 | Scores = {'BTC-USD': 1607374.3510742188, 'ETH-USD': 504983163.70799255, 'BNB-USD': 52754580.03080559}\n",
      "Epoch 11 | Scores = {'BTC-USD': 60127340.25, 'ETH-USD': 509770981.7358246, 'BNB-USD': 52854480.03080559}\n",
      "Epoch 12 | Scores = {'BTC-USD': 126704680.24169922, 'ETH-USD': 509770981.7358246, 'BNB-USD': 52754580.03080559}\n",
      "Epoch 13 | Scores = {'BTC-USD': 676551.70703125, 'ETH-USD': 509870881.7358246, 'BNB-USD': 62016319.06251335}\n",
      "Epoch 14 | Scores = {'BTC-USD': -321500.0, 'ETH-USD': 509770981.7358246, 'BNB-USD': 52605609.34081459}\n",
      "Epoch 15 | Scores = {'BTC-USD': 67114130.8725586, 'ETH-USD': 507916321.7149811, 'BNB-USD': 52754580.03080559}\n",
      "Epoch 16 | Scores = {'BTC-USD': 48801822.72949219, 'ETH-USD': 509770981.7358246, 'BNB-USD': 52754580.03080559}\n",
      "Epoch 17 | Scores = {'BTC-USD': 1268419.2783203125, 'ETH-USD': 509870881.7358246, 'BNB-USD': 52754580.03080559}\n",
      "Epoch 18 | Scores = {'BTC-USD': -23080922.85888672, 'ETH-USD': 507975668.76862335, 'BNB-USD': 52754580.03080559}\n",
      "Epoch 19 | Scores = {'BTC-USD': -1242662.5556640625, 'ETH-USD': 507875768.76862335, 'BNB-USD': 52754580.03080559}\n",
      "Epoch 20 | Scores = {'BTC-USD': 15810130.127929688, 'ETH-USD': 717659131.5134964, 'BNB-USD': 52754580.03080559}\n",
      "Epoch 21 | Scores = {'BTC-USD': 47810857.8828125, 'ETH-USD': 507875768.76862335, 'BNB-USD': 52754580.03080559}\n",
      "Epoch 22 | Scores = {'BTC-USD': 135115800.3515625, 'ETH-USD': 507875768.76862335, 'BNB-USD': 74496423.95918083}\n",
      "Epoch 23 | Scores = {'BTC-USD': 7276607.520019531, 'ETH-USD': 619396315.0941849, 'BNB-USD': -133248.4264831543}\n",
      "Epoch 24 | Scores = {'BTC-USD': 31091122.984375, 'ETH-USD': 123521732.70856476, 'BNB-USD': -121700.0}\n",
      "Epoch 25 | Scores = {'BTC-USD': 52672122.64892578, 'ETH-USD': 507875768.76862335, 'BNB-USD': 421678.4763851166}\n",
      "Epoch 26 | Scores = {'BTC-USD': 47402215.34326172, 'ETH-USD': 507875768.76862335, 'BNB-USD': 170299.3428401947}\n",
      "Epoch 27 | Scores = {'BTC-USD': 271923533.22998047, 'ETH-USD': 128091314.71826935, 'BNB-USD': 52595531.184215546}\n",
      "Epoch 28 | Scores = {'BTC-USD': 47190691.48535156, 'ETH-USD': 507812168.3292923, 'BNB-USD': 69499022.15327263}\n",
      "Epoch 29 | Scores = {'BTC-USD': 9282083.688476562, 'ETH-USD': 507875768.76862335, 'BNB-USD': -121700.0}\n",
      "Epoch 30 | Scores = {'BTC-USD': 37771890.90185547, 'ETH-USD': 117410980.34455109, 'BNB-USD': -121700.0}\n",
      "Epoch 31 | Scores = {'BTC-USD': 17278724.74609375, 'ETH-USD': 507545153.7676468, 'BNB-USD': 163382.34287071228}\n",
      "Epoch 32 | Scores = {'BTC-USD': -16362636.915527344, 'ETH-USD': 507875768.76862335, 'BNB-USD': 163382.34287071228}\n",
      "Epoch 33 | Scores = {'BTC-USD': 201128079.4638672, 'ETH-USD': 507875768.76862335, 'BNB-USD': 163382.34287071228}\n",
      "Epoch 34 | Scores = {'BTC-USD': 1027072.1127929688, 'ETH-USD': 507875768.76862335, 'BNB-USD': -104598.65926742554}\n",
      "Epoch 35 | Scores = {'BTC-USD': 10573219.78125, 'ETH-USD': 507875768.76862335, 'BNB-USD': 163382.34287071228}\n",
      "Epoch 36 | Scores = {'BTC-USD': 51643464.2734375, 'ETH-USD': 507875768.76862335, 'BNB-USD': 163382.34287071228}\n",
      "Epoch 37 | Scores = {'BTC-USD': 12698397.36328125, 'ETH-USD': 322953878.38825226, 'BNB-USD': 163382.34287071228}\n",
      "Epoch 38 | Scores = {'BTC-USD': 295473084.49072266, 'ETH-USD': 507875768.76862335, 'BNB-USD': 163382.34287071228}\n",
      "Epoch 39 | Scores = {'BTC-USD': 302702323.2763672, 'ETH-USD': 507875768.76862335, 'BNB-USD': 31014008.125322342}\n",
      "Training done!\n"
     ]
    }
   ],
   "source": [
    "train_agent(assets, agent, train_envs, num_epochs)"
   ]
  },
  {
   "cell_type": "markdown",
   "metadata": {},
   "source": [
    "## Testing the agent"
   ]
  },
  {
   "cell_type": "code",
   "execution_count": 8,
   "metadata": {},
   "outputs": [
    {
     "name": "stdout",
     "output_type": "stream",
     "text": [
      "Initial capital : 100000$ for each asset\n",
      "\n",
      "Balance : BTC-USD: 183013.55\n",
      "Balance : ETH-USD: 190956.93\n",
      "Balance : BNB-USD: 100000.0\n",
      "----------------------------\n",
      "Total profit made: 173970.48\n"
     ]
    }
   ],
   "source": [
    "test_envs = [SingleAssetEnv(test) for test in tests]\n",
    "\n",
    "print('Initial capital : 100000$ for each asset\\n')\n",
    "\n",
    "final_running_balances = test_agent(assets, agent, test_envs)"
   ]
  },
  {
   "cell_type": "code",
   "execution_count": 9,
   "metadata": {},
   "outputs": [
    {
     "name": "stdout",
     "output_type": "stream",
     "text": [
      "Balance : BTC-USD: 141997.49\n",
      "Balance : ETH-USD: 632495.76\n",
      "Balance : BNB-USD: 100000.0\n",
      "----------------------------\n",
      "Total profit made: 574493.25\n"
     ]
    }
   ],
   "source": [
    "# on training data\n",
    "envs = [SingleAssetEnv(train) for train in trains]\n",
    "\n",
    "final_running_balances2 = test_agent(assets, agent, envs)"
   ]
  }
 ],
 "metadata": {
  "kernelspec": {
   "display_name": "Python 3.10.12 ('myenv')",
   "language": "python",
   "name": "python3"
  },
  "language_info": {
   "codemirror_mode": {
    "name": "ipython",
    "version": 3
   },
   "file_extension": ".py",
   "mimetype": "text/x-python",
   "name": "python",
   "nbconvert_exporter": "python",
   "pygments_lexer": "ipython3",
   "version": "3.10.12"
  },
  "vscode": {
   "interpreter": {
    "hash": "8c0acf22ca7497d002e5e6e252fe169a1f9bf4afdf57db37b4725403d5188d16"
   }
  }
 },
 "nbformat": 4,
 "nbformat_minor": 2
}
