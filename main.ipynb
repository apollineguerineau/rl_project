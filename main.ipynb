{
 "cells": [
  {
   "cell_type": "markdown",
   "metadata": {},
   "source": [
    "# Trading agent demo"
   ]
  },
  {
   "cell_type": "markdown",
   "metadata": {},
   "source": [
    "## Imports"
   ]
  },
  {
   "cell_type": "code",
   "execution_count": 13,
   "metadata": {},
   "outputs": [],
   "source": [
    "from modules.data_loader import DataLoader\n",
    "from modules.single_asset_env import SingleAssetEnv\n",
    "from modules.q_network import Q_network\n",
    "from modules.memory import Memory\n",
    "from modules.trading_agent import TradingAgent\n",
    "\n",
    "import torch\n",
    "import numpy as np"
   ]
  },
  {
   "cell_type": "markdown",
   "metadata": {},
   "source": [
    "## Environment variables"
   ]
  },
  {
   "cell_type": "code",
   "execution_count": 14,
   "metadata": {},
   "outputs": [],
   "source": [
    "NUM_ACTIONS = 3 # Buy, Sell, Hold\n",
    "LEN_HISTORY = 7 # consider last week to predict next value\n",
    "STATES_DIM = LEN_HISTORY + 1 # history + predicted value\n",
    "\n",
    "# Q network params\n",
    "INPUT_DIM = STATES_DIM\n",
    "HIDDEN_DIM = 64\n",
    "OUTPUT_DIM = NUM_ACTIONS\n",
    "\n",
    "LEARNING_RATE = 1e-3\n",
    "\n",
    "NUM_EPOCHS = 20\n",
    "BATCH_SIZE = 64\n",
    "\n",
    "MEMORY_SIZE = 200\n",
    "\n",
    "GAMMA = 0.97\n",
    "\n",
    "EPSILON = 1.0\n",
    "EPSILON_DECREASE = 1e-3\n",
    "EPSILON_MIN = 0.1\n",
    "START_REDUCE_EPSILON = 200\n",
    "\n",
    "TRAIN_FREQ = 10\n",
    "UPDATE_Q_FREQ = 20\n",
    "SHOW_LOG_FREQ = 5\n",
    "\n",
    "DEVICE = 'cpu'\n",
    "SEED = 123"
   ]
  },
  {
   "cell_type": "markdown",
   "metadata": {},
   "source": [
    "## Loading data"
   ]
  },
  {
   "cell_type": "code",
   "execution_count": 27,
   "metadata": {},
   "outputs": [
    {
     "name": "stderr",
     "output_type": "stream",
     "text": [
      "[*********************100%%**********************]  1 of 1 completed\n",
      "[*********************100%%**********************]  1 of 1 completed\n",
      "[*********************100%%**********************]  1 of 1 completed\n"
     ]
    }
   ],
   "source": [
    "dataloader = DataLoader('2020-01-01', '1d', '2024-01-01')\n",
    "\n",
    "assets = [\"BTC-USD\", \"ETH-USD\", \"BNB-USD\"]\n",
    "\n",
    "trains = []\n",
    "tests = []\n",
    "\n",
    "for asset in assets:\n",
    "    train, test = dataloader.load(asset)\n",
    "\n",
    "    trains.append(train)\n",
    "    tests.append(test)"
   ]
  },
  {
   "cell_type": "markdown",
   "metadata": {},
   "source": [
    "## Initialisations"
   ]
  },
  {
   "cell_type": "code",
   "execution_count": 16,
   "metadata": {},
   "outputs": [],
   "source": [
    "train_envs = [SingleAssetEnv(train) for train in trains]\n",
    "\n",
    "agent = TradingAgent(STATES_DIM, NUM_ACTIONS, seed=SEED)\n",
    "\n",
    "scores = {key: [] for key in assets}"
   ]
  },
  {
   "cell_type": "markdown",
   "metadata": {},
   "source": [
    "## Training the agent"
   ]
  },
  {
   "cell_type": "code",
   "execution_count": 17,
   "metadata": {},
   "outputs": [
    {
     "name": "stdout",
     "output_type": "stream",
     "text": [
      "Epoch  0 | Score = {'BTC-USD': -8850736.239257812, 'ETH-USD': -1462, 'BNB-USD': -1462}\n",
      "Epoch  1 | Score = {'BTC-USD': -203924.23828125, 'ETH-USD': -1462, 'BNB-USD': -1462}\n",
      "Epoch  2 | Score = {'BTC-USD': -139537.455078125, 'ETH-USD': -101461, 'BNB-USD': -1462}\n",
      "Epoch  3 | Score = {'BTC-USD': -3024421.5849609375, 'ETH-USD': -1462, 'BNB-USD': -1682.680435180664}\n",
      "Epoch  4 | Score = {'BTC-USD': -158477.3671875, 'ETH-USD': -1462, 'BNB-USD': -1462}\n",
      "Epoch  5 | Score = {'BTC-USD': -301671.7041015625, 'ETH-USD': -2235.5349731445312, 'BNB-USD': -1462}\n",
      "Epoch  6 | Score = {'BTC-USD': -188265.64599609375, 'ETH-USD': -101461, 'BNB-USD': -101461}\n",
      "Epoch  7 | Score = {'BTC-USD': 0.29052734375, 'ETH-USD': -2906.3834228515625, 'BNB-USD': -1783.70751953125}\n",
      "Epoch  8 | Score = {'BTC-USD': -953353.6010742188, 'ETH-USD': -1462, 'BNB-USD': -101461}\n",
      "Epoch  9 | Score = {'BTC-USD': -171272.50634765625, 'ETH-USD': -4879.408203125, 'BNB-USD': -1462}\n",
      "Epoch 10 | Score = {'BTC-USD': -198583.361328125, 'ETH-USD': -201460, 'BNB-USD': -1462}\n",
      "Epoch 11 | Score = {'BTC-USD': -69285.0419921875, 'ETH-USD': -103686.92651367188, 'BNB-USD': -101461}\n",
      "Epoch 12 | Score = {'BTC-USD': -52861.09619140625, 'ETH-USD': -1462, 'BNB-USD': -1760.2829895019531}\n",
      "Epoch 13 | Score = {'BTC-USD': -100495.48193359375, 'ETH-USD': -1462, 'BNB-USD': -1749.1252136230469}\n",
      "Epoch 14 | Score = {'BTC-USD': -50512.42578125, 'ETH-USD': -401458, 'BNB-USD': -1462}\n",
      "Epoch 15 | Score = {'BTC-USD': -201460, 'ETH-USD': -1462, 'BNB-USD': -1462}\n",
      "Epoch 16 | Score = {'BTC-USD': -200859.37158203125, 'ETH-USD': -1462, 'BNB-USD': -1462}\n",
      "Epoch 17 | Score = {'BTC-USD': -30400.4267578125, 'ETH-USD': -101461, 'BNB-USD': -1491.633960723877}\n",
      "Epoch 18 | Score = {'BTC-USD': -38396.2744140625, 'ETH-USD': -1462, 'BNB-USD': -1462}\n",
      "Epoch 19 | Score = {'BTC-USD': -155778.30859375, 'ETH-USD': -1462, 'BNB-USD': -1462}\n",
      "Training done!\n"
     ]
    }
   ],
   "source": [
    "for epoch in range(NUM_EPOCHS):\n",
    "\n",
    "    # intialise score for the epoch\n",
    "    score = {key: 0 for key in assets}\n",
    "    step_count = 1\n",
    "\n",
    "    for asset, env in zip(assets, train_envs):\n",
    "\n",
    "        # reset the environment before each epoch + get initial state\n",
    "        state = env.reset()\n",
    "\n",
    "        while True:\n",
    "\n",
    "            # find epsilon greedy action from state\n",
    "            action = agent.act(state, 1/step_count) # epsilon = 1/t\n",
    "\n",
    "            # perform step in the environment and get completing info\n",
    "            next_state, reward, done = env.step(action)\n",
    "\n",
    "            agent.step(state, action, reward, next_state, done)\n",
    "\n",
    "            # prepare for next iteration\n",
    "            step_count += 1\n",
    "            state = next_state\n",
    "\n",
    "            score[asset] += reward\n",
    "\n",
    "            if done:\n",
    "                break\n",
    "\n",
    "    # compute info about the epoch\n",
    "    for key in scores.keys():\n",
    "        scores[key].append(score[key])\n",
    "\n",
    "    print(f\"Epoch {epoch:2} | Score = {score}\")\n",
    "\n",
    "print(\"Training done!\")\n",
    "\n",
    "# save Q_network model weights\n",
    "agent.save_models(\"weights\")"
   ]
  },
  {
   "cell_type": "markdown",
   "metadata": {},
   "source": [
    "## Testing the agent"
   ]
  },
  {
   "cell_type": "code",
   "execution_count": 33,
   "metadata": {},
   "outputs": [
    {
     "name": "stdout",
     "output_type": "stream",
     "text": [
      "Profit made with BTC-USD: 0\n",
      "Profit made with ETH-USD: 0\n",
      "Profit made with BNB-USD: 0\n",
      "---------------------------\n",
      "Total profit made: 0\n"
     ]
    }
   ],
   "source": [
    "test_envs = [SingleAssetEnv(test) for test in tests]\n",
    "\n",
    "for asset, env in zip(assets, test_envs):\n",
    "\n",
    "    state = env.reset()\n",
    "\n",
    "    test_actions = []\n",
    "    test_rewards = []\n",
    "\n",
    "    for _ in range(len(env.data)-1):\n",
    "        \n",
    "        action = agent.qnet(torch.from_numpy(np.array(state, dtype=np.float32).reshape(1, -1)))\n",
    "        action = np.argmax(action.data)\n",
    "        test_actions.append(action.item())\n",
    "                \n",
    "        next_state, reward, done = env.step(action.numpy())\n",
    "        test_rewards.append(reward)\n",
    "\n",
    "        state = next_state\n",
    "\n",
    "    print(f\"Profit made with {asset}: {env.profit}\")\n",
    "\n",
    "print(\"-\"*27)\n",
    "print(f\"Total profit made: {sum([env.profit for env in test_envs])}\")"
   ]
  }
 ],
 "metadata": {
  "kernelspec": {
   "display_name": "rlenv",
   "language": "python",
   "name": "python3"
  },
  "language_info": {
   "codemirror_mode": {
    "name": "ipython",
    "version": 3
   },
   "file_extension": ".py",
   "mimetype": "text/x-python",
   "name": "python",
   "nbconvert_exporter": "python",
   "pygments_lexer": "ipython3",
   "version": "3.10.12"
  }
 },
 "nbformat": 4,
 "nbformat_minor": 2
}
