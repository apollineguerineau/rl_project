{
 "cells": [
  {
   "cell_type": "markdown",
   "metadata": {},
   "source": [
    "# Trading agent demo"
   ]
  },
  {
   "cell_type": "markdown",
   "metadata": {},
   "source": [
    "## Imports"
   ]
  },
  {
   "cell_type": "code",
   "execution_count": 27,
   "metadata": {},
   "outputs": [],
   "source": [
    "from modules.data_loader import DataLoader\n",
    "from modules.single_asset_env import SingleAssetEnv\n",
    "from modules.q_network import Q_network\n",
    "from modules.memory import Memory\n",
    "from modules.trading_agent import TradingAgent\n",
    "\n",
    "import torch\n",
    "import numpy as np"
   ]
  },
  {
   "cell_type": "markdown",
   "metadata": {},
   "source": [
    "## Environment variables"
   ]
  },
  {
   "cell_type": "code",
   "execution_count": 22,
   "metadata": {},
   "outputs": [],
   "source": [
    "NUM_ACTIONS = 3 # Buy, Sell, Hold\n",
    "LEN_HISTORY = 7 # consider last week to predict next value\n",
    "STATES_DIM = LEN_HISTORY + 1 # history + predicted value\n",
    "\n",
    "# Q network params\n",
    "INPUT_DIM = STATES_DIM\n",
    "HIDDEN_DIM = 64\n",
    "OUTPUT_DIM = NUM_ACTIONS\n",
    "\n",
    "LEARNING_RATE = 1e-3\n",
    "\n",
    "NUM_EPOCHS = 10\n",
    "BATCH_SIZE = 64\n",
    "\n",
    "MEMORY_SIZE = 200\n",
    "\n",
    "GAMMA = 0.97\n",
    "\n",
    "EPSILON = 1.0\n",
    "EPSILON_DECREASE = 1e-3\n",
    "EPSILON_MIN = 0.1\n",
    "START_REDUCE_EPSILON = 200\n",
    "\n",
    "TRAIN_FREQ = 10\n",
    "UPDATE_Q_FREQ = 20\n",
    "SHOW_LOG_FREQ = 5\n",
    "\n",
    "DEVICE = 'cpu'"
   ]
  },
  {
   "cell_type": "markdown",
   "metadata": {},
   "source": [
    "## Loading data"
   ]
  },
  {
   "cell_type": "code",
   "execution_count": 23,
   "metadata": {},
   "outputs": [
    {
     "name": "stderr",
     "output_type": "stream",
     "text": [
      "[*********************100%%**********************]  1 of 1 completed"
     ]
    },
    {
     "name": "stderr",
     "output_type": "stream",
     "text": [
      "\n"
     ]
    }
   ],
   "source": [
    "dataloader = DataLoader('2020-01-01', '1d', '2024-01-01')\n",
    "\n",
    "train_btc, test_btc = dataloader.load(\"BTC-USD\")"
   ]
  },
  {
   "cell_type": "markdown",
   "metadata": {},
   "source": [
    "## Initialisations"
   ]
  },
  {
   "cell_type": "code",
   "execution_count": 24,
   "metadata": {},
   "outputs": [],
   "source": [
    "train_env = SingleAssetEnv(train_btc)\n",
    "\n",
    "MAX_STEPS = len(train_btc)-1\n",
    "\n",
    "memory = Memory(256)\n",
    "\n",
    "agent = TradingAgent(STATES_DIM, NUM_ACTIONS, memory)\n",
    "\n",
    "scores = []"
   ]
  },
  {
   "cell_type": "markdown",
   "metadata": {},
   "source": [
    "## Training the agent"
   ]
  },
  {
   "cell_type": "code",
   "execution_count": 25,
   "metadata": {},
   "outputs": [
    {
     "name": "stdout",
     "output_type": "stream",
     "text": [
      "Epoch  0 | Score =  -1100 | Profit = 95176.610000\n",
      "Epoch  1 | Score =  -1102 | Profit = 142683.350000\n",
      "Epoch  2 | Score =  -1192 | Profit = 28718.100000\n",
      "Epoch  3 | Score =  -1178 | Profit = 36463.720000\n",
      "Epoch  4 | Score =  -1182 | Profit = 46028.750000\n",
      "Epoch  5 | Score =  -1182 | Profit = 146718.520000\n",
      "Epoch  6 | Score =  -1228 | Profit = 332516.030000\n",
      "Epoch  7 | Score =  -1234 | Profit = 430188.870000\n",
      "Epoch  8 | Score =  -1266 | Profit = 428285.660000\n",
      "Epoch  9 | Score =  -1328 | Profit = 238045.040000\n",
      "Training done!\n"
     ]
    }
   ],
   "source": [
    "for epoch in range(NUM_EPOCHS):\n",
    "\n",
    "    # reset the environment before each epoch + get initial state\n",
    "    state = train_env.reset()\n",
    "\n",
    "    # intialise score for the epoch\n",
    "    score = 0\n",
    "    step_count = 1\n",
    "\n",
    "    while True:\n",
    "\n",
    "        # find epsilon greedy action from state\n",
    "        action = agent.act(state, 1/step_count) # epsilon = 1/t\n",
    "\n",
    "        # perform step in the environment and get completing info\n",
    "        next_state, reward, done = train_env.step(action)\n",
    "\n",
    "        agent.step(state, action, reward, next_state, done)\n",
    "\n",
    "        # prepare for next iteration\n",
    "        step_count += 1\n",
    "        state = next_state\n",
    "\n",
    "        score += reward\n",
    "\n",
    "        if done:\n",
    "            break\n",
    "\n",
    "    # compute info about the epoch\n",
    "    scores.append(score)\n",
    "\n",
    "    print(f\"Epoch {epoch:2} | Score = {score:6} | Profit = {round(train_env.profit, 2)}\")\n",
    "\n",
    "print(\"Training done!\")\n",
    "\n",
    "# save Q_network model weights\n",
    "agent.save_models(\"weights\")"
   ]
  },
  {
   "cell_type": "markdown",
   "metadata": {},
   "source": [
    "## Testing the agent"
   ]
  },
  {
   "cell_type": "code",
   "execution_count": 28,
   "metadata": {},
   "outputs": [
    {
     "name": "stdout",
     "output_type": "stream",
     "text": [
      "Profit made : 20182.73046875\n"
     ]
    }
   ],
   "source": [
    "test_env = SingleAssetEnv(test_btc)\n",
    "\n",
    "state = test_env.reset()\n",
    "\n",
    "test_actions = []\n",
    "test_rewards = []\n",
    "\n",
    "for _ in range(len(test_env.data)-1):\n",
    "    \n",
    "    action = agent.qnet(torch.from_numpy(np.array(state, dtype=np.float32).reshape(1, -1)))\n",
    "    action = np.argmax(action.data)\n",
    "    test_actions.append(action.item())\n",
    "            \n",
    "    next_state, reward, done = test_env.step(action.numpy())\n",
    "    test_rewards.append(reward)\n",
    "\n",
    "    state = next_state\n",
    "\n",
    "print(f\"Profit made : {test_env.profit}\")"
   ]
  }
 ],
 "metadata": {
  "kernelspec": {
   "display_name": "rlenv",
   "language": "python",
   "name": "python3"
  },
  "language_info": {
   "codemirror_mode": {
    "name": "ipython",
    "version": 3
   },
   "file_extension": ".py",
   "mimetype": "text/x-python",
   "name": "python",
   "nbconvert_exporter": "python",
   "pygments_lexer": "ipython3",
   "version": "3.10.12"
  }
 },
 "nbformat": 4,
 "nbformat_minor": 2
}
